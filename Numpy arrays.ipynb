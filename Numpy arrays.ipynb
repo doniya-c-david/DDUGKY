{
 "cells": [
  {
   "cell_type": "code",
   "execution_count": 1,
   "id": "49a3b15f",
   "metadata": {},
   "outputs": [],
   "source": [
    "import numpy as np\n"
   ]
  },
  {
   "cell_type": "markdown",
   "id": "2fa7c134",
   "metadata": {},
   "source": [
    "#### 1D Array"
   ]
  },
  {
   "cell_type": "code",
   "execution_count": 2,
   "id": "e2f19c28",
   "metadata": {},
   "outputs": [
    {
     "name": "stdout",
     "output_type": "stream",
     "text": [
      "[1 2 3]\n"
     ]
    }
   ],
   "source": [
    "a=np.array([1,2,3])\n",
    "print(a)"
   ]
  },
  {
   "cell_type": "code",
   "execution_count": 3,
   "id": "3a524fb9",
   "metadata": {},
   "outputs": [
    {
     "data": {
      "text/plain": [
       "array([1, 2, 3, 4, 5])"
      ]
     },
     "execution_count": 3,
     "metadata": {},
     "output_type": "execute_result"
    }
   ],
   "source": [
    "b=np.array([1,2,3,4,5])\n",
    "b"
   ]
  },
  {
   "cell_type": "markdown",
   "id": "dbbe0901",
   "metadata": {},
   "source": [
    "#### Attributes of arrays"
   ]
  },
  {
   "cell_type": "code",
   "execution_count": 4,
   "id": "6222399f",
   "metadata": {},
   "outputs": [
    {
     "data": {
      "text/plain": [
       "dtype('int32')"
      ]
     },
     "execution_count": 4,
     "metadata": {},
     "output_type": "execute_result"
    }
   ],
   "source": [
    "a.dtype"
   ]
  },
  {
   "cell_type": "code",
   "execution_count": 5,
   "id": "a961507e",
   "metadata": {},
   "outputs": [
    {
     "data": {
      "text/plain": [
       "1"
      ]
     },
     "execution_count": 5,
     "metadata": {},
     "output_type": "execute_result"
    }
   ],
   "source": [
    "a.ndim"
   ]
  },
  {
   "cell_type": "code",
   "execution_count": 6,
   "id": "f580c263",
   "metadata": {},
   "outputs": [
    {
     "data": {
      "text/plain": [
       "5"
      ]
     },
     "execution_count": 6,
     "metadata": {},
     "output_type": "execute_result"
    }
   ],
   "source": [
    "b.size"
   ]
  },
  {
   "cell_type": "code",
   "execution_count": 7,
   "id": "25ef4691",
   "metadata": {},
   "outputs": [
    {
     "data": {
      "text/plain": [
       "(3,)"
      ]
     },
     "execution_count": 7,
     "metadata": {},
     "output_type": "execute_result"
    }
   ],
   "source": [
    "a.shape"
   ]
  },
  {
   "cell_type": "markdown",
   "id": "3d9a45e5",
   "metadata": {},
   "source": [
    "#### Multidimensional array"
   ]
  },
  {
   "cell_type": "code",
   "execution_count": 8,
   "id": "4746d168",
   "metadata": {},
   "outputs": [
    {
     "data": {
      "text/plain": [
       "array([[2, 3, 4],\n",
       "       [3, 4, 5],\n",
       "       [3, 6, 7]])"
      ]
     },
     "execution_count": 8,
     "metadata": {},
     "output_type": "execute_result"
    }
   ],
   "source": [
    "m=np.array([[2,3,4],\n",
    "          [3,4,5],\n",
    "          [3,6,7]])\n",
    "m"
   ]
  },
  {
   "cell_type": "code",
   "execution_count": 9,
   "id": "53f934f5",
   "metadata": {},
   "outputs": [
    {
     "data": {
      "text/plain": [
       "dtype('int32')"
      ]
     },
     "execution_count": 9,
     "metadata": {},
     "output_type": "execute_result"
    }
   ],
   "source": [
    "m.dtype"
   ]
  },
  {
   "cell_type": "code",
   "execution_count": 10,
   "id": "2dea0dc2",
   "metadata": {},
   "outputs": [
    {
     "data": {
      "text/plain": [
       "9"
      ]
     },
     "execution_count": 10,
     "metadata": {},
     "output_type": "execute_result"
    }
   ],
   "source": [
    "m.size"
   ]
  },
  {
   "cell_type": "code",
   "execution_count": 11,
   "id": "a382d052",
   "metadata": {},
   "outputs": [
    {
     "data": {
      "text/plain": [
       "(3, 3)"
      ]
     },
     "execution_count": 11,
     "metadata": {},
     "output_type": "execute_result"
    }
   ],
   "source": [
    "m.shape"
   ]
  },
  {
   "cell_type": "code",
   "execution_count": 12,
   "id": "dd4f38d9",
   "metadata": {},
   "outputs": [
    {
     "name": "stdout",
     "output_type": "stream",
     "text": [
      "[2 3 4]\n"
     ]
    }
   ],
   "source": [
    "print(m[0])"
   ]
  },
  {
   "cell_type": "code",
   "execution_count": 13,
   "id": "9a4824f2",
   "metadata": {},
   "outputs": [
    {
     "name": "stdout",
     "output_type": "stream",
     "text": [
      "7\n"
     ]
    }
   ],
   "source": [
    "print(m[2][2])"
   ]
  },
  {
   "cell_type": "code",
   "execution_count": 14,
   "id": "969e8411",
   "metadata": {},
   "outputs": [
    {
     "name": "stdout",
     "output_type": "stream",
     "text": [
      "2\n"
     ]
    }
   ],
   "source": [
    "print(m[0][0])"
   ]
  },
  {
   "cell_type": "code",
   "execution_count": 15,
   "id": "60dac0a9",
   "metadata": {},
   "outputs": [
    {
     "data": {
      "text/plain": [
       "(1, 2)"
      ]
     },
     "execution_count": 15,
     "metadata": {},
     "output_type": "execute_result"
    }
   ],
   "source": [
    "an=np.array([[2,3]])\n",
    "an.shape\n"
   ]
  },
  {
   "cell_type": "code",
   "execution_count": 16,
   "id": "1ed91bab",
   "metadata": {},
   "outputs": [],
   "source": [
    "n1=np.array([[[2,3,4,5]]])"
   ]
  },
  {
   "cell_type": "code",
   "execution_count": 17,
   "id": "b54c794e",
   "metadata": {},
   "outputs": [
    {
     "data": {
      "text/plain": [
       "(1, 1, 4)"
      ]
     },
     "execution_count": 17,
     "metadata": {},
     "output_type": "execute_result"
    }
   ],
   "source": [
    "n1.shape"
   ]
  },
  {
   "cell_type": "code",
   "execution_count": 18,
   "id": "41253e5a",
   "metadata": {},
   "outputs": [],
   "source": [
    "n2=np.array([[[2,3,4],[5,6,7]]])"
   ]
  },
  {
   "cell_type": "code",
   "execution_count": 19,
   "id": "d935e86d",
   "metadata": {},
   "outputs": [
    {
     "data": {
      "text/plain": [
       "(1, 2, 3)"
      ]
     },
     "execution_count": 19,
     "metadata": {},
     "output_type": "execute_result"
    }
   ],
   "source": [
    "n2.shape"
   ]
  },
  {
   "cell_type": "code",
   "execution_count": 20,
   "id": "7e22dbb3",
   "metadata": {},
   "outputs": [
    {
     "data": {
      "text/plain": [
       "array([[2., 3., 4.],\n",
       "       [5., 6., 7.],\n",
       "       [7., 8., 9.]])"
      ]
     },
     "execution_count": 20,
     "metadata": {},
     "output_type": "execute_result"
    }
   ],
   "source": [
    "n3=np.array([[2,3,4],[5,6,7],[7,8,9]],dtype=float)\n",
    "n3"
   ]
  },
  {
   "cell_type": "markdown",
   "id": "96762343",
   "metadata": {},
   "source": [
    "#### Bigger Arrays"
   ]
  },
  {
   "cell_type": "code",
   "execution_count": 21,
   "id": "08f22e97",
   "metadata": {},
   "outputs": [
    {
     "data": {
      "text/plain": [
       "array([[[1., 2., 3.],\n",
       "        [2., 4., 5.],\n",
       "        [8., 9., 0.]],\n",
       "\n",
       "       [[3., 5., 7.],\n",
       "        [5., 7., 8.],\n",
       "        [1., 6., 7.]],\n",
       "\n",
       "       [[2., 4., 6.],\n",
       "        [5., 7., 9.],\n",
       "        [0., 1., 4.]]])"
      ]
     },
     "execution_count": 21,
     "metadata": {},
     "output_type": "execute_result"
    }
   ],
   "source": [
    "big=np.array([\n",
    "    [[1,2,3],[2,4,5],[8,9,0]],\n",
    "    [[3,5,7],[5,7,8],[1,6,7]],\n",
    "    [[2,4,6],[5,7,9],[0,1,4]]],dtype=float)\n",
    "big"
   ]
  },
  {
   "cell_type": "code",
   "execution_count": 22,
   "id": "3607dcb8",
   "metadata": {},
   "outputs": [
    {
     "data": {
      "text/plain": [
       "(3, 3, 3)"
      ]
     },
     "execution_count": 22,
     "metadata": {},
     "output_type": "execute_result"
    }
   ],
   "source": [
    "big.shape"
   ]
  },
  {
   "cell_type": "code",
   "execution_count": 23,
   "id": "d1ab2411",
   "metadata": {},
   "outputs": [
    {
     "data": {
      "text/plain": [
       "3"
      ]
     },
     "execution_count": 23,
     "metadata": {},
     "output_type": "execute_result"
    }
   ],
   "source": [
    "big.ndim"
   ]
  },
  {
   "cell_type": "code",
   "execution_count": 24,
   "id": "fdf00e5e",
   "metadata": {},
   "outputs": [
    {
     "data": {
      "text/plain": [
       "27"
      ]
     },
     "execution_count": 24,
     "metadata": {},
     "output_type": "execute_result"
    }
   ],
   "source": [
    "big.size"
   ]
  },
  {
   "cell_type": "code",
   "execution_count": 25,
   "id": "d8dc8f1e",
   "metadata": {},
   "outputs": [
    {
     "data": {
      "text/plain": [
       "7.0"
      ]
     },
     "execution_count": 25,
     "metadata": {},
     "output_type": "execute_result"
    }
   ],
   "source": [
    "big[2][1][1]"
   ]
  },
  {
   "cell_type": "code",
   "execution_count": 26,
   "id": "474de0cb",
   "metadata": {},
   "outputs": [
    {
     "data": {
      "text/plain": [
       "4.0"
      ]
     },
     "execution_count": 26,
     "metadata": {},
     "output_type": "execute_result"
    }
   ],
   "source": [
    "big[2][2][2]"
   ]
  },
  {
   "cell_type": "markdown",
   "id": "c15afbc2",
   "metadata": {},
   "source": [
    "### Filling arrays"
   ]
  },
  {
   "cell_type": "markdown",
   "id": "91d20f0b",
   "metadata": {},
   "source": [
    "#### By using the full function for example, we fill an array of a certain shape with the same number. In this case we create a 3x5x4 matrix, which is filled with sevens. "
   ]
  },
  {
   "cell_type": "code",
   "execution_count": 27,
   "id": "1de48b58",
   "metadata": {},
   "outputs": [
    {
     "data": {
      "text/plain": [
       "array([[[2, 2, 2],\n",
       "        [2, 2, 2],\n",
       "        [2, 2, 2],\n",
       "        [2, 2, 2]],\n",
       "\n",
       "       [[2, 2, 2],\n",
       "        [2, 2, 2],\n",
       "        [2, 2, 2],\n",
       "        [2, 2, 2]],\n",
       "\n",
       "       [[2, 2, 2],\n",
       "        [2, 2, 2],\n",
       "        [2, 2, 2],\n",
       "        [2, 2, 2]]])"
      ]
     },
     "execution_count": 27,
     "metadata": {},
     "output_type": "execute_result"
    }
   ],
   "source": [
    "afull=np.full((3,4,3),2)\n",
    "afull"
   ]
  },
  {
   "cell_type": "code",
   "execution_count": 28,
   "id": "5128b560",
   "metadata": {},
   "outputs": [
    {
     "data": {
      "text/plain": [
       "3"
      ]
     },
     "execution_count": 28,
     "metadata": {},
     "output_type": "execute_result"
    }
   ],
   "source": [
    "afull.ndim"
   ]
  },
  {
   "cell_type": "code",
   "execution_count": 29,
   "id": "7ffc4fbb",
   "metadata": {},
   "outputs": [
    {
     "data": {
      "text/plain": [
       "array([[[9, 9],\n",
       "        [9, 9]],\n",
       "\n",
       "       [[9, 9],\n",
       "        [9, 9]]])"
      ]
     },
     "execution_count": 29,
     "metadata": {},
     "output_type": "execute_result"
    }
   ],
   "source": [
    "bfull=np.full((2,2,2),9)\n",
    "bfull"
   ]
  },
  {
   "cell_type": "markdown",
   "id": "4cc94ce0",
   "metadata": {},
   "source": [
    "### Zeros and Ones"
   ]
  },
  {
   "cell_type": "markdown",
   "id": "7d8ff6fe",
   "metadata": {},
   "source": [
    "#### For the cases that we want arrays full of zeros or ones, we even have specific functions. \n"
   ]
  },
  {
   "cell_type": "code",
   "execution_count": 30,
   "id": "37078f97",
   "metadata": {},
   "outputs": [
    {
     "data": {
      "text/plain": [
       "array([[0., 0., 0.],\n",
       "       [0., 0., 0.]])"
      ]
     },
     "execution_count": 30,
     "metadata": {},
     "output_type": "execute_result"
    }
   ],
   "source": [
    "a0=np.zeros((2,3))\n",
    "a0"
   ]
  },
  {
   "cell_type": "code",
   "execution_count": 31,
   "id": "e054f361",
   "metadata": {},
   "outputs": [
    {
     "data": {
      "text/plain": [
       "array([[[0., 0., 0., 0., 0.],\n",
       "        [0., 0., 0., 0., 0.]],\n",
       "\n",
       "       [[0., 0., 0., 0., 0.],\n",
       "        [0., 0., 0., 0., 0.]],\n",
       "\n",
       "       [[0., 0., 0., 0., 0.],\n",
       "        [0., 0., 0., 0., 0.]],\n",
       "\n",
       "       [[0., 0., 0., 0., 0.],\n",
       "        [0., 0., 0., 0., 0.]]])"
      ]
     },
     "execution_count": 31,
     "metadata": {},
     "output_type": "execute_result"
    }
   ],
   "source": [
    "a0=np.zeros((4,2,5))\n",
    "a0"
   ]
  },
  {
   "cell_type": "code",
   "execution_count": 32,
   "id": "3e6b82eb",
   "metadata": {},
   "outputs": [
    {
     "data": {
      "text/plain": [
       "array([[[1., 1., 1.],\n",
       "        [1., 1., 1.],\n",
       "        [1., 1., 1.]],\n",
       "\n",
       "       [[1., 1., 1.],\n",
       "        [1., 1., 1.],\n",
       "        [1., 1., 1.]],\n",
       "\n",
       "       [[1., 1., 1.],\n",
       "        [1., 1., 1.],\n",
       "        [1., 1., 1.]]])"
      ]
     },
     "execution_count": 32,
     "metadata": {},
     "output_type": "execute_result"
    }
   ],
   "source": [
    "a1=np.ones((3,3,3))\n",
    "a1"
   ]
  },
  {
   "cell_type": "code",
   "execution_count": 33,
   "id": "326de1f7",
   "metadata": {},
   "outputs": [
    {
     "data": {
      "text/plain": [
       "array([[[1., 1.],\n",
       "        [1., 1.],\n",
       "        [1., 1.],\n",
       "        [1., 1.]],\n",
       "\n",
       "       [[1., 1.],\n",
       "        [1., 1.],\n",
       "        [1., 1.],\n",
       "        [1., 1.]],\n",
       "\n",
       "       [[1., 1.],\n",
       "        [1., 1.],\n",
       "        [1., 1.],\n",
       "        [1., 1.]],\n",
       "\n",
       "       [[1., 1.],\n",
       "        [1., 1.],\n",
       "        [1., 1.],\n",
       "        [1., 1.]]])"
      ]
     },
     "execution_count": 33,
     "metadata": {},
     "output_type": "execute_result"
    }
   ],
   "source": [
    "a1=np.ones((4,4,2))\n",
    "a1"
   ]
  },
  {
   "cell_type": "markdown",
   "id": "a4e18df0",
   "metadata": {},
   "source": [
    "### Empty and Random"
   ]
  },
  {
   "cell_type": "markdown",
   "id": "8f897fc3",
   "metadata": {},
   "source": [
    "#### Other options would be to create an empty array or one that is filled with random numbers. For this, we use the respective functions once again. \n"
   ]
  },
  {
   "cell_type": "code",
   "execution_count": 34,
   "id": "b6a2b5ad",
   "metadata": {},
   "outputs": [
    {
     "data": {
      "text/plain": [
       "array([[[1., 1., 1., 1.],\n",
       "        [1., 1., 1., 1.]],\n",
       "\n",
       "       [[1., 1., 1., 1.],\n",
       "        [1., 1., 1., 1.]],\n",
       "\n",
       "       [[1., 1., 1., 1.],\n",
       "        [1., 1., 1., 1.]],\n",
       "\n",
       "       [[1., 1., 1., 1.],\n",
       "        [1., 1., 1., 1.]]])"
      ]
     },
     "execution_count": 34,
     "metadata": {},
     "output_type": "execute_result"
    }
   ],
   "source": [
    "e=np.empty((4,2,4))\n",
    "e"
   ]
  },
  {
   "cell_type": "code",
   "execution_count": 35,
   "id": "b5ccd405",
   "metadata": {},
   "outputs": [
    {
     "data": {
      "text/plain": [
       "array([[[0.91628975, 0.6067752 , 0.84351756, 0.71737082, 0.64942914],\n",
       "        [0.26769877, 0.91433551, 0.52812769, 0.80343671, 0.54952437],\n",
       "        [0.42232801, 0.67661942, 0.60833588, 0.94402646, 0.86484821],\n",
       "        [0.02741434, 0.9567708 , 0.56208533, 0.90256966, 0.76984305]],\n",
       "\n",
       "       [[0.56913659, 0.95977928, 0.22812232, 0.13564494, 0.29733849],\n",
       "        [0.38502535, 0.78113324, 0.48316936, 0.24901853, 0.14504309],\n",
       "        [0.25134795, 0.04883456, 0.17127889, 0.17564501, 0.51660123],\n",
       "        [0.43309228, 0.18890194, 0.50350747, 0.76879205, 0.62998551]],\n",
       "\n",
       "       [[0.27315569, 0.66526508, 0.10922232, 0.67167936, 0.3494232 ],\n",
       "        [0.75533758, 0.6769294 , 0.43208258, 0.63295541, 0.70306118],\n",
       "        [0.7830914 , 0.58632691, 0.1854243 , 0.84200478, 0.01654841],\n",
       "        [0.29643777, 0.40914065, 0.82099576, 0.6808036 , 0.1175528 ]]])"
      ]
     },
     "execution_count": 35,
     "metadata": {},
     "output_type": "execute_result"
    }
   ],
   "source": [
    "ran=np.random.random((3,4,5))\n",
    "ran"
   ]
  },
  {
   "cell_type": "raw",
   "id": "410d5503",
   "metadata": {},
   "source": [
    "ran.ndim\n"
   ]
  },
  {
   "cell_type": "code",
   "execution_count": 36,
   "id": "1565c48f",
   "metadata": {},
   "outputs": [
    {
     "data": {
      "text/plain": [
       "60"
      ]
     },
     "execution_count": 36,
     "metadata": {},
     "output_type": "execute_result"
    }
   ],
   "source": [
    "ran.size"
   ]
  },
  {
   "cell_type": "markdown",
   "id": "34ecaebc",
   "metadata": {},
   "source": [
    "### Ranges"
   ]
  },
  {
   "cell_type": "markdown",
   "id": "a89a25b3",
   "metadata": {},
   "source": [
    "#### Instead of just filling arrays with the same values, we can fill create sequences of values by specifying the boundaries. For this, we can use two different functions, namely arange and linspace. \n"
   ]
  },
  {
   "cell_type": "markdown",
   "id": "5edefddb",
   "metadata": {},
   "source": [
    "### Arange"
   ]
  },
  {
   "cell_type": "code",
   "execution_count": 40,
   "id": "de46c820",
   "metadata": {},
   "outputs": [],
   "source": [
    "x = np.empty((4,3,4))"
   ]
  },
  {
   "cell_type": "markdown",
   "id": "dedb9f19",
   "metadata": {},
   "source": [
    "#### (start,stop,step)"
   ]
  },
  {
   "cell_type": "code",
   "execution_count": 43,
   "id": "d9099130",
   "metadata": {},
   "outputs": [
    {
     "data": {
      "text/plain": [
       "array([2, 5, 8])"
      ]
     },
     "execution_count": 43,
     "metadata": {},
     "output_type": "execute_result"
    }
   ],
   "source": [
    "a_arange=np.arange(2,10,3)\n",
    "a_arange"
   ]
  },
  {
   "cell_type": "code",
   "execution_count": 44,
   "id": "0858ebfa",
   "metadata": {},
   "outputs": [
    {
     "data": {
      "text/plain": [
       "array([ 1,  3,  5,  7,  9, 11, 13, 15, 17, 19, 21, 23, 25, 27, 29, 31, 33,\n",
       "       35, 37, 39, 41, 43, 45, 47, 49, 51, 53, 55, 57, 59, 61, 63, 65, 67,\n",
       "       69, 71, 73, 75, 77, 79, 81, 83, 85, 87, 89, 91, 93, 95, 97, 99])"
      ]
     },
     "execution_count": 44,
     "metadata": {},
     "output_type": "execute_result"
    }
   ],
   "source": [
    "a_arange=np.arange(1,100,2)\n",
    "a_arange"
   ]
  },
  {
   "cell_type": "markdown",
   "id": "4345818f",
   "metadata": {},
   "source": [
    "### linspace"
   ]
  },
  {
   "cell_type": "markdown",
   "id": "f2f101fd",
   "metadata": {},
   "source": [
    "#### By using linspace we also create a list from a minimum value to a maximum value. But instead of specifying the step-size, we specify the amount of values that we want to have in our list. They will all be spread evenly and have the same distance to their neighbors. \n"
   ]
  },
  {
   "cell_type": "markdown",
   "id": "6948ef31",
   "metadata": {},
   "source": [
    "### (start,stop,no.of items)"
   ]
  },
  {
   "cell_type": "code",
   "execution_count": 46,
   "id": "e2a8c8c5",
   "metadata": {},
   "outputs": [
    {
     "data": {
      "text/plain": [
       "array([0.        , 0.55555556, 1.11111111, 1.66666667, 2.22222222,\n",
       "       2.77777778, 3.33333333, 3.88888889, 4.44444444, 5.        ])"
      ]
     },
     "execution_count": 46,
     "metadata": {},
     "output_type": "execute_result"
    }
   ],
   "source": [
    "a_linspace=np.linspace(0,5,10)\n",
    "a_linspace"
   ]
  },
  {
   "cell_type": "code",
   "execution_count": 47,
   "id": "d562fb59",
   "metadata": {},
   "outputs": [
    {
     "data": {
      "text/plain": [
       "10"
      ]
     },
     "execution_count": 47,
     "metadata": {},
     "output_type": "execute_result"
    }
   ],
   "source": [
    "a_linspace.size"
   ]
  },
  {
   "cell_type": "code",
   "execution_count": 48,
   "id": "82fa11b9",
   "metadata": {},
   "outputs": [
    {
     "data": {
      "text/plain": [
       "1"
      ]
     },
     "execution_count": 48,
     "metadata": {},
     "output_type": "execute_result"
    }
   ],
   "source": [
    "a_linspace.ndim"
   ]
  },
  {
   "cell_type": "code",
   "execution_count": 50,
   "id": "3942d019",
   "metadata": {},
   "outputs": [
    {
     "data": {
      "text/plain": [
       "array([  0.        ,  11.11111111,  22.22222222,  33.33333333,\n",
       "        44.44444444,  55.55555556,  66.66666667,  77.77777778,\n",
       "        88.88888889, 100.        ])"
      ]
     },
     "execution_count": 50,
     "metadata": {},
     "output_type": "execute_result"
    }
   ],
   "source": [
    "a_linspace=np.linspace(0,100,10)\n",
    "a_linspace"
   ]
  },
  {
   "cell_type": "code",
   "execution_count": 51,
   "id": "dcbe3b15",
   "metadata": {},
   "outputs": [
    {
     "data": {
      "text/plain": [
       "10"
      ]
     },
     "execution_count": 51,
     "metadata": {},
     "output_type": "execute_result"
    }
   ],
   "source": [
    "a_linspace.size"
   ]
  },
  {
   "cell_type": "code",
   "execution_count": 52,
   "id": "ac4b4b07",
   "metadata": {},
   "outputs": [
    {
     "data": {
      "text/plain": [
       "1"
      ]
     },
     "execution_count": 52,
     "metadata": {},
     "output_type": "execute_result"
    }
   ],
   "source": [
    "a_linspace.ndim"
   ]
  },
  {
   "cell_type": "code",
   "execution_count": 53,
   "id": "3f62eef0",
   "metadata": {},
   "outputs": [
    {
     "data": {
      "text/plain": [
       "array([  0,  11,  22,  33,  44,  55,  66,  77,  88, 100])"
      ]
     },
     "execution_count": 53,
     "metadata": {},
     "output_type": "execute_result"
    }
   ],
   "source": [
    "a_linspace=np.linspace(0,100,10,dtype=int)\n",
    "a_linspace"
   ]
  },
  {
   "cell_type": "code",
   "execution_count": 54,
   "id": "318f39f0",
   "metadata": {},
   "outputs": [
    {
     "data": {
      "text/plain": [
       "array([[2, 3, 4],\n",
       "       [3, 4, 5],\n",
       "       [3, 6, 7]])"
      ]
     },
     "execution_count": 54,
     "metadata": {},
     "output_type": "execute_result"
    }
   ],
   "source": [
    "m=np.array([[2,3,4],\n",
    "          [3,4,5],\n",
    "          [3,6,7]])\n",
    "m\n"
   ]
  },
  {
   "cell_type": "markdown",
   "id": "0d163f64",
   "metadata": {},
   "source": [
    "### Math Functions"
   ]
  },
  {
   "cell_type": "markdown",
   "id": "fbfdfa2c",
   "metadata": {},
   "source": [
    "#### np.exp(a) \n",
    "Takes e to the power of each value \n"
   ]
  },
  {
   "cell_type": "code",
   "execution_count": 56,
   "id": "5e6afd81",
   "metadata": {},
   "outputs": [
    {
     "data": {
      "text/plain": [
       "array([[   7.3890561 ,   20.08553692,   54.59815003],\n",
       "       [  20.08553692,   54.59815003,  148.4131591 ],\n",
       "       [  20.08553692,  403.42879349, 1096.63315843]])"
      ]
     },
     "execution_count": 56,
     "metadata": {},
     "output_type": "execute_result"
    }
   ],
   "source": [
    "np.exp(m)"
   ]
  },
  {
   "cell_type": "markdown",
   "id": "91bd34ff",
   "metadata": {},
   "source": [
    "#### np.sin(a) \n",
    "Returns the sine of each value \n"
   ]
  },
  {
   "cell_type": "code",
   "execution_count": 57,
   "id": "6b15efa1",
   "metadata": {},
   "outputs": [
    {
     "data": {
      "text/plain": [
       "array([[ 0.90929743,  0.14112001, -0.7568025 ],\n",
       "       [ 0.14112001, -0.7568025 , -0.95892427],\n",
       "       [ 0.14112001, -0.2794155 ,  0.6569866 ]])"
      ]
     },
     "execution_count": 57,
     "metadata": {},
     "output_type": "execute_result"
    }
   ],
   "source": [
    "np.sin(m)"
   ]
  },
  {
   "cell_type": "markdown",
   "id": "1bc666fe",
   "metadata": {},
   "source": [
    "#### np.cos(a) \n",
    "Returns the cosine of each value \n"
   ]
  },
  {
   "cell_type": "code",
   "execution_count": 58,
   "id": "327a410d",
   "metadata": {},
   "outputs": [
    {
     "data": {
      "text/plain": [
       "array([[-0.41614684, -0.9899925 , -0.65364362],\n",
       "       [-0.9899925 , -0.65364362,  0.28366219],\n",
       "       [-0.9899925 ,  0.96017029,  0.75390225]])"
      ]
     },
     "execution_count": 58,
     "metadata": {},
     "output_type": "execute_result"
    }
   ],
   "source": [
    "np.cos(m)"
   ]
  },
  {
   "cell_type": "markdown",
   "id": "ecb66a41",
   "metadata": {},
   "source": [
    "#### np.tan(a) \n",
    "Returns the tangent of each value \n"
   ]
  },
  {
   "cell_type": "code",
   "execution_count": 59,
   "id": "511d8c81",
   "metadata": {},
   "outputs": [
    {
     "data": {
      "text/plain": [
       "array([[-2.18503986, -0.14254654,  1.15782128],\n",
       "       [-0.14254654,  1.15782128, -3.38051501],\n",
       "       [-0.14254654, -0.29100619,  0.87144798]])"
      ]
     },
     "execution_count": 59,
     "metadata": {},
     "output_type": "execute_result"
    }
   ],
   "source": [
    "np.tan(m)"
   ]
  },
  {
   "cell_type": "markdown",
   "id": "2c6a99c1",
   "metadata": {},
   "source": [
    "#### np.log(a) \n",
    "Returns the logarithm of each value \n"
   ]
  },
  {
   "cell_type": "code",
   "execution_count": 60,
   "id": "ad5e5e74",
   "metadata": {},
   "outputs": [
    {
     "data": {
      "text/plain": [
       "array([[0.69314718, 1.09861229, 1.38629436],\n",
       "       [1.09861229, 1.38629436, 1.60943791],\n",
       "       [1.09861229, 1.79175947, 1.94591015]])"
      ]
     },
     "execution_count": 60,
     "metadata": {},
     "output_type": "execute_result"
    }
   ],
   "source": [
    "np.log(m)"
   ]
  },
  {
   "cell_type": "markdown",
   "id": "c96accdb",
   "metadata": {},
   "source": [
    "#### np.sqrt(a) \n",
    "Returns the square root of each value \n"
   ]
  },
  {
   "cell_type": "code",
   "execution_count": 61,
   "id": "0a9e0516",
   "metadata": {},
   "outputs": [
    {
     "data": {
      "text/plain": [
       "array([[1.41421356, 1.73205081, 2.        ],\n",
       "       [1.73205081, 2.        , 2.23606798],\n",
       "       [1.73205081, 2.44948974, 2.64575131]])"
      ]
     },
     "execution_count": 61,
     "metadata": {},
     "output_type": "execute_result"
    }
   ],
   "source": [
    "np.sqrt(m)"
   ]
  },
  {
   "cell_type": "markdown",
   "id": "3550262d",
   "metadata": {},
   "source": [
    "### AGGREGATE FUNCTIONS \n"
   ]
  },
  {
   "cell_type": "code",
   "execution_count": 63,
   "id": "5d924130",
   "metadata": {},
   "outputs": [
    {
     "data": {
      "text/plain": [
       "37"
      ]
     },
     "execution_count": 63,
     "metadata": {},
     "output_type": "execute_result"
    }
   ],
   "source": [
    "m.sum()#return sum of all values in the array"
   ]
  },
  {
   "cell_type": "code",
   "execution_count": 64,
   "id": "69251f47",
   "metadata": {},
   "outputs": [
    {
     "data": {
      "text/plain": [
       "2"
      ]
     },
     "execution_count": 64,
     "metadata": {},
     "output_type": "execute_result"
    }
   ],
   "source": [
    "m.min() \n",
    "#Returns the lowest value of the array \n"
   ]
  },
  {
   "cell_type": "code",
   "execution_count": 66,
   "id": "0f8ff4c2",
   "metadata": {},
   "outputs": [
    {
     "data": {
      "text/plain": [
       "7"
      ]
     },
     "execution_count": 66,
     "metadata": {},
     "output_type": "execute_result"
    }
   ],
   "source": [
    "m.max() \n",
    "#Returns the highest value of the array \n"
   ]
  },
  {
   "cell_type": "code",
   "execution_count": 68,
   "id": "ab2b0739",
   "metadata": {},
   "outputs": [
    {
     "data": {
      "text/plain": [
       "4.111111111111111"
      ]
     },
     "execution_count": 68,
     "metadata": {},
     "output_type": "execute_result"
    }
   ],
   "source": [
    "m.mean() \n",
    "#Returns the arithmetic mean of all values in the array \n"
   ]
  },
  {
   "cell_type": "code",
   "execution_count": 70,
   "id": "ad3e0204",
   "metadata": {},
   "outputs": [
    {
     "data": {
      "text/plain": [
       "4.0"
      ]
     },
     "execution_count": 70,
     "metadata": {},
     "output_type": "execute_result"
    }
   ],
   "source": [
    "np.median(m) \n",
    "#Returns the median value of the array \n"
   ]
  },
  {
   "cell_type": "code",
   "execution_count": 73,
   "id": "7ed66cbf",
   "metadata": {},
   "outputs": [
    {
     "data": {
      "text/plain": [
       "1.5234788000891208"
      ]
     },
     "execution_count": 73,
     "metadata": {},
     "output_type": "execute_result"
    }
   ],
   "source": [
    "np.std(m) \n",
    "#Returns the standard deviation of the values in the array \n"
   ]
  },
  {
   "cell_type": "code",
   "execution_count": null,
   "id": "028fe5c8",
   "metadata": {},
   "outputs": [],
   "source": []
  }
 ],
 "metadata": {
  "kernelspec": {
   "display_name": "Python 3 (ipykernel)",
   "language": "python",
   "name": "python3"
  },
  "language_info": {
   "codemirror_mode": {
    "name": "ipython",
    "version": 3
   },
   "file_extension": ".py",
   "mimetype": "text/x-python",
   "name": "python",
   "nbconvert_exporter": "python",
   "pygments_lexer": "ipython3",
   "version": "3.10.9"
  }
 },
 "nbformat": 4,
 "nbformat_minor": 5
}

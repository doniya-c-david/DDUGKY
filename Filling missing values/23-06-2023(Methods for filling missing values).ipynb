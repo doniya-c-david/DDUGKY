{
 "cells": [
  {
   "cell_type": "code",
   "execution_count": 1,
   "id": "0927a426",
   "metadata": {},
   "outputs": [],
   "source": [
    "import numpy as np\n",
    "import pandas as pd\n",
    "import warnings\n",
    "warnings.filterwarnings('ignore')\n"
   ]
  },
  {
   "cell_type": "code",
   "execution_count": 5,
   "id": "72d7a29b",
   "metadata": {},
   "outputs": [
    {
     "data": {
      "text/html": [
       "<div>\n",
       "<style scoped>\n",
       "    .dataframe tbody tr th:only-of-type {\n",
       "        vertical-align: middle;\n",
       "    }\n",
       "\n",
       "    .dataframe tbody tr th {\n",
       "        vertical-align: top;\n",
       "    }\n",
       "\n",
       "    .dataframe thead th {\n",
       "        text-align: right;\n",
       "    }\n",
       "</style>\n",
       "<table border=\"1\" class=\"dataframe\">\n",
       "  <thead>\n",
       "    <tr style=\"text-align: right;\">\n",
       "      <th></th>\n",
       "      <th>date</th>\n",
       "      <th>temperature</th>\n",
       "      <th>windSpeed</th>\n",
       "      <th>status</th>\n",
       "    </tr>\n",
       "  </thead>\n",
       "  <tbody>\n",
       "    <tr>\n",
       "      <th>0</th>\n",
       "      <td>2020-05-06</td>\n",
       "      <td>35.6582</td>\n",
       "      <td>10.788378</td>\n",
       "      <td>sunny</td>\n",
       "    </tr>\n",
       "    <tr>\n",
       "      <th>1</th>\n",
       "      <td>2020-05-07</td>\n",
       "      <td>NaN</td>\n",
       "      <td>NaN</td>\n",
       "      <td>NaN</td>\n",
       "    </tr>\n",
       "    <tr>\n",
       "      <th>2</th>\n",
       "      <td>2020-05-08</td>\n",
       "      <td>30.9343</td>\n",
       "      <td>NaN</td>\n",
       "      <td>rainy</td>\n",
       "    </tr>\n",
       "    <tr>\n",
       "      <th>3</th>\n",
       "      <td>2020-05-09</td>\n",
       "      <td>NaN</td>\n",
       "      <td>6.889682</td>\n",
       "      <td>cloudy</td>\n",
       "    </tr>\n",
       "    <tr>\n",
       "      <th>4</th>\n",
       "      <td>2020-05-10</td>\n",
       "      <td>13.9082</td>\n",
       "      <td>19.012990</td>\n",
       "      <td>rainy</td>\n",
       "    </tr>\n",
       "    <tr>\n",
       "      <th>5</th>\n",
       "      <td>2020-05-11</td>\n",
       "      <td>23.9382</td>\n",
       "      <td>NaN</td>\n",
       "      <td>sunny</td>\n",
       "    </tr>\n",
       "  </tbody>\n",
       "</table>\n",
       "</div>"
      ],
      "text/plain": [
       "        date  temperature  windSpeed  status\n",
       "0 2020-05-06      35.6582  10.788378   sunny\n",
       "1 2020-05-07          NaN        NaN     NaN\n",
       "2 2020-05-08      30.9343        NaN   rainy\n",
       "3 2020-05-09          NaN   6.889682  cloudy\n",
       "4 2020-05-10      13.9082  19.012990   rainy\n",
       "5 2020-05-11      23.9382        NaN   sunny"
      ]
     },
     "execution_count": 5,
     "metadata": {},
     "output_type": "execute_result"
    }
   ],
   "source": [
    "data=pd.read_excel('./fill_na.xlsx')\n",
    "data"
   ]
  },
  {
   "cell_type": "markdown",
   "id": "73da42e2",
   "metadata": {},
   "source": [
    "### Filling common value to all missing values"
   ]
  },
  {
   "cell_type": "code",
   "execution_count": 6,
   "id": "75906b6e",
   "metadata": {},
   "outputs": [
    {
     "data": {
      "text/html": [
       "<div>\n",
       "<style scoped>\n",
       "    .dataframe tbody tr th:only-of-type {\n",
       "        vertical-align: middle;\n",
       "    }\n",
       "\n",
       "    .dataframe tbody tr th {\n",
       "        vertical-align: top;\n",
       "    }\n",
       "\n",
       "    .dataframe thead th {\n",
       "        text-align: right;\n",
       "    }\n",
       "</style>\n",
       "<table border=\"1\" class=\"dataframe\">\n",
       "  <thead>\n",
       "    <tr style=\"text-align: right;\">\n",
       "      <th></th>\n",
       "      <th>date</th>\n",
       "      <th>temperature</th>\n",
       "      <th>windSpeed</th>\n",
       "      <th>status</th>\n",
       "    </tr>\n",
       "  </thead>\n",
       "  <tbody>\n",
       "    <tr>\n",
       "      <th>0</th>\n",
       "      <td>2020-05-06</td>\n",
       "      <td>35.6582</td>\n",
       "      <td>10.788378</td>\n",
       "      <td>sunny</td>\n",
       "    </tr>\n",
       "    <tr>\n",
       "      <th>1</th>\n",
       "      <td>2020-05-07</td>\n",
       "      <td>0.0000</td>\n",
       "      <td>0.000000</td>\n",
       "      <td>0</td>\n",
       "    </tr>\n",
       "    <tr>\n",
       "      <th>2</th>\n",
       "      <td>2020-05-08</td>\n",
       "      <td>30.9343</td>\n",
       "      <td>0.000000</td>\n",
       "      <td>rainy</td>\n",
       "    </tr>\n",
       "    <tr>\n",
       "      <th>3</th>\n",
       "      <td>2020-05-09</td>\n",
       "      <td>0.0000</td>\n",
       "      <td>6.889682</td>\n",
       "      <td>cloudy</td>\n",
       "    </tr>\n",
       "    <tr>\n",
       "      <th>4</th>\n",
       "      <td>2020-05-10</td>\n",
       "      <td>13.9082</td>\n",
       "      <td>19.012990</td>\n",
       "      <td>rainy</td>\n",
       "    </tr>\n",
       "    <tr>\n",
       "      <th>5</th>\n",
       "      <td>2020-05-11</td>\n",
       "      <td>23.9382</td>\n",
       "      <td>0.000000</td>\n",
       "      <td>sunny</td>\n",
       "    </tr>\n",
       "  </tbody>\n",
       "</table>\n",
       "</div>"
      ],
      "text/plain": [
       "        date  temperature  windSpeed  status\n",
       "0 2020-05-06      35.6582  10.788378   sunny\n",
       "1 2020-05-07       0.0000   0.000000       0\n",
       "2 2020-05-08      30.9343   0.000000   rainy\n",
       "3 2020-05-09       0.0000   6.889682  cloudy\n",
       "4 2020-05-10      13.9082  19.012990   rainy\n",
       "5 2020-05-11      23.9382   0.000000   sunny"
      ]
     },
     "execution_count": 6,
     "metadata": {},
     "output_type": "execute_result"
    }
   ],
   "source": [
    "data.fillna(0)"
   ]
  },
  {
   "cell_type": "markdown",
   "id": "9abb41e5",
   "metadata": {},
   "source": [
    "### Adding missing values to individual columns"
   ]
  },
  {
   "cell_type": "code",
   "execution_count": 7,
   "id": "69091542",
   "metadata": {},
   "outputs": [
    {
     "data": {
      "text/html": [
       "<div>\n",
       "<style scoped>\n",
       "    .dataframe tbody tr th:only-of-type {\n",
       "        vertical-align: middle;\n",
       "    }\n",
       "\n",
       "    .dataframe tbody tr th {\n",
       "        vertical-align: top;\n",
       "    }\n",
       "\n",
       "    .dataframe thead th {\n",
       "        text-align: right;\n",
       "    }\n",
       "</style>\n",
       "<table border=\"1\" class=\"dataframe\">\n",
       "  <thead>\n",
       "    <tr style=\"text-align: right;\">\n",
       "      <th></th>\n",
       "      <th>date</th>\n",
       "      <th>temperature</th>\n",
       "      <th>windSpeed</th>\n",
       "      <th>status</th>\n",
       "    </tr>\n",
       "  </thead>\n",
       "  <tbody>\n",
       "    <tr>\n",
       "      <th>0</th>\n",
       "      <td>2020-05-06</td>\n",
       "      <td>35.6582</td>\n",
       "      <td>10.788378</td>\n",
       "      <td>sunny</td>\n",
       "    </tr>\n",
       "    <tr>\n",
       "      <th>1</th>\n",
       "      <td>2020-05-07</td>\n",
       "      <td>0.0000</td>\n",
       "      <td>19.000000</td>\n",
       "      <td>cloudy</td>\n",
       "    </tr>\n",
       "    <tr>\n",
       "      <th>2</th>\n",
       "      <td>2020-05-08</td>\n",
       "      <td>30.9343</td>\n",
       "      <td>19.000000</td>\n",
       "      <td>rainy</td>\n",
       "    </tr>\n",
       "    <tr>\n",
       "      <th>3</th>\n",
       "      <td>2020-05-09</td>\n",
       "      <td>0.0000</td>\n",
       "      <td>6.889682</td>\n",
       "      <td>cloudy</td>\n",
       "    </tr>\n",
       "    <tr>\n",
       "      <th>4</th>\n",
       "      <td>2020-05-10</td>\n",
       "      <td>13.9082</td>\n",
       "      <td>19.012990</td>\n",
       "      <td>rainy</td>\n",
       "    </tr>\n",
       "    <tr>\n",
       "      <th>5</th>\n",
       "      <td>2020-05-11</td>\n",
       "      <td>23.9382</td>\n",
       "      <td>19.000000</td>\n",
       "      <td>sunny</td>\n",
       "    </tr>\n",
       "  </tbody>\n",
       "</table>\n",
       "</div>"
      ],
      "text/plain": [
       "        date  temperature  windSpeed  status\n",
       "0 2020-05-06      35.6582  10.788378   sunny\n",
       "1 2020-05-07       0.0000  19.000000  cloudy\n",
       "2 2020-05-08      30.9343  19.000000   rainy\n",
       "3 2020-05-09       0.0000   6.889682  cloudy\n",
       "4 2020-05-10      13.9082  19.012990   rainy\n",
       "5 2020-05-11      23.9382  19.000000   sunny"
      ]
     },
     "execution_count": 7,
     "metadata": {},
     "output_type": "execute_result"
    }
   ],
   "source": [
    "data.fillna({'temperature':0,'windSpeed':19,'status':'cloudy'})"
   ]
  },
  {
   "cell_type": "markdown",
   "id": "12c677bc",
   "metadata": {},
   "source": [
    "### Alternate way:Filling individual columns"
   ]
  },
  {
   "cell_type": "code",
   "execution_count": 8,
   "id": "262d0cae",
   "metadata": {},
   "outputs": [
    {
     "data": {
      "text/plain": [
       "0     sunny\n",
       "1     windy\n",
       "2     rainy\n",
       "3    cloudy\n",
       "4     rainy\n",
       "5     sunny\n",
       "Name: status, dtype: object"
      ]
     },
     "execution_count": 8,
     "metadata": {},
     "output_type": "execute_result"
    }
   ],
   "source": [
    "data.status.fillna('windy')"
   ]
  },
  {
   "cell_type": "markdown",
   "id": "afa506fd",
   "metadata": {},
   "source": [
    "### Forward fill(Row)"
   ]
  },
  {
   "cell_type": "markdown",
   "id": "ef0307c0",
   "metadata": {},
   "source": [
    "#### Forward fill is a method to forward the data from the row above the missing value."
   ]
  },
  {
   "cell_type": "code",
   "execution_count": 9,
   "id": "9bca4a27",
   "metadata": {},
   "outputs": [
    {
     "data": {
      "text/html": [
       "<div>\n",
       "<style scoped>\n",
       "    .dataframe tbody tr th:only-of-type {\n",
       "        vertical-align: middle;\n",
       "    }\n",
       "\n",
       "    .dataframe tbody tr th {\n",
       "        vertical-align: top;\n",
       "    }\n",
       "\n",
       "    .dataframe thead th {\n",
       "        text-align: right;\n",
       "    }\n",
       "</style>\n",
       "<table border=\"1\" class=\"dataframe\">\n",
       "  <thead>\n",
       "    <tr style=\"text-align: right;\">\n",
       "      <th></th>\n",
       "      <th>date</th>\n",
       "      <th>temperature</th>\n",
       "      <th>windSpeed</th>\n",
       "      <th>status</th>\n",
       "    </tr>\n",
       "  </thead>\n",
       "  <tbody>\n",
       "    <tr>\n",
       "      <th>0</th>\n",
       "      <td>2020-05-06</td>\n",
       "      <td>35.6582</td>\n",
       "      <td>10.788378</td>\n",
       "      <td>sunny</td>\n",
       "    </tr>\n",
       "    <tr>\n",
       "      <th>1</th>\n",
       "      <td>2020-05-07</td>\n",
       "      <td>35.6582</td>\n",
       "      <td>10.788378</td>\n",
       "      <td>sunny</td>\n",
       "    </tr>\n",
       "    <tr>\n",
       "      <th>2</th>\n",
       "      <td>2020-05-08</td>\n",
       "      <td>30.9343</td>\n",
       "      <td>10.788378</td>\n",
       "      <td>rainy</td>\n",
       "    </tr>\n",
       "    <tr>\n",
       "      <th>3</th>\n",
       "      <td>2020-05-09</td>\n",
       "      <td>30.9343</td>\n",
       "      <td>6.889682</td>\n",
       "      <td>cloudy</td>\n",
       "    </tr>\n",
       "    <tr>\n",
       "      <th>4</th>\n",
       "      <td>2020-05-10</td>\n",
       "      <td>13.9082</td>\n",
       "      <td>19.012990</td>\n",
       "      <td>rainy</td>\n",
       "    </tr>\n",
       "    <tr>\n",
       "      <th>5</th>\n",
       "      <td>2020-05-11</td>\n",
       "      <td>23.9382</td>\n",
       "      <td>19.012990</td>\n",
       "      <td>sunny</td>\n",
       "    </tr>\n",
       "  </tbody>\n",
       "</table>\n",
       "</div>"
      ],
      "text/plain": [
       "        date  temperature  windSpeed  status\n",
       "0 2020-05-06      35.6582  10.788378   sunny\n",
       "1 2020-05-07      35.6582  10.788378   sunny\n",
       "2 2020-05-08      30.9343  10.788378   rainy\n",
       "3 2020-05-09      30.9343   6.889682  cloudy\n",
       "4 2020-05-10      13.9082  19.012990   rainy\n",
       "5 2020-05-11      23.9382  19.012990   sunny"
      ]
     },
     "execution_count": 9,
     "metadata": {},
     "output_type": "execute_result"
    }
   ],
   "source": [
    "data.fillna(method='ffill')"
   ]
  },
  {
   "cell_type": "markdown",
   "id": "e62cb659",
   "metadata": {},
   "source": [
    "### Backward Fill(Row)"
   ]
  },
  {
   "cell_type": "markdown",
   "id": "ac1f8ef5",
   "metadata": {},
   "source": [
    "#### Backward fill is a method to forward the data from the row below the missing value."
   ]
  },
  {
   "cell_type": "code",
   "execution_count": 10,
   "id": "8fdd55d4",
   "metadata": {},
   "outputs": [
    {
     "data": {
      "text/html": [
       "<div>\n",
       "<style scoped>\n",
       "    .dataframe tbody tr th:only-of-type {\n",
       "        vertical-align: middle;\n",
       "    }\n",
       "\n",
       "    .dataframe tbody tr th {\n",
       "        vertical-align: top;\n",
       "    }\n",
       "\n",
       "    .dataframe thead th {\n",
       "        text-align: right;\n",
       "    }\n",
       "</style>\n",
       "<table border=\"1\" class=\"dataframe\">\n",
       "  <thead>\n",
       "    <tr style=\"text-align: right;\">\n",
       "      <th></th>\n",
       "      <th>date</th>\n",
       "      <th>temperature</th>\n",
       "      <th>windSpeed</th>\n",
       "      <th>status</th>\n",
       "    </tr>\n",
       "  </thead>\n",
       "  <tbody>\n",
       "    <tr>\n",
       "      <th>0</th>\n",
       "      <td>2020-05-06</td>\n",
       "      <td>35.6582</td>\n",
       "      <td>10.788378</td>\n",
       "      <td>sunny</td>\n",
       "    </tr>\n",
       "    <tr>\n",
       "      <th>1</th>\n",
       "      <td>2020-05-07</td>\n",
       "      <td>30.9343</td>\n",
       "      <td>6.889682</td>\n",
       "      <td>rainy</td>\n",
       "    </tr>\n",
       "    <tr>\n",
       "      <th>2</th>\n",
       "      <td>2020-05-08</td>\n",
       "      <td>30.9343</td>\n",
       "      <td>6.889682</td>\n",
       "      <td>rainy</td>\n",
       "    </tr>\n",
       "    <tr>\n",
       "      <th>3</th>\n",
       "      <td>2020-05-09</td>\n",
       "      <td>13.9082</td>\n",
       "      <td>6.889682</td>\n",
       "      <td>cloudy</td>\n",
       "    </tr>\n",
       "    <tr>\n",
       "      <th>4</th>\n",
       "      <td>2020-05-10</td>\n",
       "      <td>13.9082</td>\n",
       "      <td>19.012990</td>\n",
       "      <td>rainy</td>\n",
       "    </tr>\n",
       "    <tr>\n",
       "      <th>5</th>\n",
       "      <td>2020-05-11</td>\n",
       "      <td>23.9382</td>\n",
       "      <td>NaN</td>\n",
       "      <td>sunny</td>\n",
       "    </tr>\n",
       "  </tbody>\n",
       "</table>\n",
       "</div>"
      ],
      "text/plain": [
       "        date  temperature  windSpeed  status\n",
       "0 2020-05-06      35.6582  10.788378   sunny\n",
       "1 2020-05-07      30.9343   6.889682   rainy\n",
       "2 2020-05-08      30.9343   6.889682   rainy\n",
       "3 2020-05-09      13.9082   6.889682  cloudy\n",
       "4 2020-05-10      13.9082  19.012990   rainy\n",
       "5 2020-05-11      23.9382        NaN   sunny"
      ]
     },
     "execution_count": 10,
     "metadata": {},
     "output_type": "execute_result"
    }
   ],
   "source": [
    "data.fillna(method='bfill')"
   ]
  },
  {
   "cell_type": "markdown",
   "id": "40b2e0ae",
   "metadata": {},
   "source": [
    "### Forward fill(Column)"
   ]
  },
  {
   "cell_type": "code",
   "execution_count": 12,
   "id": "f800eb3e",
   "metadata": {},
   "outputs": [
    {
     "data": {
      "text/html": [
       "<div>\n",
       "<style scoped>\n",
       "    .dataframe tbody tr th:only-of-type {\n",
       "        vertical-align: middle;\n",
       "    }\n",
       "\n",
       "    .dataframe tbody tr th {\n",
       "        vertical-align: top;\n",
       "    }\n",
       "\n",
       "    .dataframe thead th {\n",
       "        text-align: right;\n",
       "    }\n",
       "</style>\n",
       "<table border=\"1\" class=\"dataframe\">\n",
       "  <thead>\n",
       "    <tr style=\"text-align: right;\">\n",
       "      <th></th>\n",
       "      <th>date</th>\n",
       "      <th>temperature</th>\n",
       "      <th>windSpeed</th>\n",
       "      <th>status</th>\n",
       "    </tr>\n",
       "  </thead>\n",
       "  <tbody>\n",
       "    <tr>\n",
       "      <th>0</th>\n",
       "      <td>2020-05-06</td>\n",
       "      <td>35.6582</td>\n",
       "      <td>10.788378</td>\n",
       "      <td>sunny</td>\n",
       "    </tr>\n",
       "    <tr>\n",
       "      <th>1</th>\n",
       "      <td>2020-05-07</td>\n",
       "      <td>2020-05-07 00:00:00</td>\n",
       "      <td>2020-05-07 00:00:00</td>\n",
       "      <td>2020-05-07 00:00:00</td>\n",
       "    </tr>\n",
       "    <tr>\n",
       "      <th>2</th>\n",
       "      <td>2020-05-08</td>\n",
       "      <td>30.9343</td>\n",
       "      <td>30.9343</td>\n",
       "      <td>rainy</td>\n",
       "    </tr>\n",
       "    <tr>\n",
       "      <th>3</th>\n",
       "      <td>2020-05-09</td>\n",
       "      <td>2020-05-09 00:00:00</td>\n",
       "      <td>6.889682</td>\n",
       "      <td>cloudy</td>\n",
       "    </tr>\n",
       "    <tr>\n",
       "      <th>4</th>\n",
       "      <td>2020-05-10</td>\n",
       "      <td>13.9082</td>\n",
       "      <td>19.01299</td>\n",
       "      <td>rainy</td>\n",
       "    </tr>\n",
       "    <tr>\n",
       "      <th>5</th>\n",
       "      <td>2020-05-11</td>\n",
       "      <td>23.9382</td>\n",
       "      <td>23.9382</td>\n",
       "      <td>sunny</td>\n",
       "    </tr>\n",
       "  </tbody>\n",
       "</table>\n",
       "</div>"
      ],
      "text/plain": [
       "        date          temperature            windSpeed               status\n",
       "0 2020-05-06              35.6582            10.788378                sunny\n",
       "1 2020-05-07  2020-05-07 00:00:00  2020-05-07 00:00:00  2020-05-07 00:00:00\n",
       "2 2020-05-08              30.9343              30.9343                rainy\n",
       "3 2020-05-09  2020-05-09 00:00:00             6.889682               cloudy\n",
       "4 2020-05-10              13.9082             19.01299                rainy\n",
       "5 2020-05-11              23.9382              23.9382                sunny"
      ]
     },
     "execution_count": 12,
     "metadata": {},
     "output_type": "execute_result"
    }
   ],
   "source": [
    "data.fillna(method='ffill',axis='columns')"
   ]
  },
  {
   "cell_type": "markdown",
   "id": "628b5df3",
   "metadata": {},
   "source": [
    "### Backward fill(Columns)"
   ]
  },
  {
   "cell_type": "code",
   "execution_count": 13,
   "id": "d92f6fe4",
   "metadata": {},
   "outputs": [
    {
     "data": {
      "text/html": [
       "<div>\n",
       "<style scoped>\n",
       "    .dataframe tbody tr th:only-of-type {\n",
       "        vertical-align: middle;\n",
       "    }\n",
       "\n",
       "    .dataframe tbody tr th {\n",
       "        vertical-align: top;\n",
       "    }\n",
       "\n",
       "    .dataframe thead th {\n",
       "        text-align: right;\n",
       "    }\n",
       "</style>\n",
       "<table border=\"1\" class=\"dataframe\">\n",
       "  <thead>\n",
       "    <tr style=\"text-align: right;\">\n",
       "      <th></th>\n",
       "      <th>date</th>\n",
       "      <th>temperature</th>\n",
       "      <th>windSpeed</th>\n",
       "      <th>status</th>\n",
       "    </tr>\n",
       "  </thead>\n",
       "  <tbody>\n",
       "    <tr>\n",
       "      <th>0</th>\n",
       "      <td>2020-05-06</td>\n",
       "      <td>35.6582</td>\n",
       "      <td>10.788378</td>\n",
       "      <td>sunny</td>\n",
       "    </tr>\n",
       "    <tr>\n",
       "      <th>1</th>\n",
       "      <td>2020-05-07</td>\n",
       "      <td>NaT</td>\n",
       "      <td>NaT</td>\n",
       "      <td>NaT</td>\n",
       "    </tr>\n",
       "    <tr>\n",
       "      <th>2</th>\n",
       "      <td>2020-05-08</td>\n",
       "      <td>30.9343</td>\n",
       "      <td>rainy</td>\n",
       "      <td>rainy</td>\n",
       "    </tr>\n",
       "    <tr>\n",
       "      <th>3</th>\n",
       "      <td>2020-05-09</td>\n",
       "      <td>6.889682</td>\n",
       "      <td>6.889682</td>\n",
       "      <td>cloudy</td>\n",
       "    </tr>\n",
       "    <tr>\n",
       "      <th>4</th>\n",
       "      <td>2020-05-10</td>\n",
       "      <td>13.9082</td>\n",
       "      <td>19.01299</td>\n",
       "      <td>rainy</td>\n",
       "    </tr>\n",
       "    <tr>\n",
       "      <th>5</th>\n",
       "      <td>2020-05-11</td>\n",
       "      <td>23.9382</td>\n",
       "      <td>sunny</td>\n",
       "      <td>sunny</td>\n",
       "    </tr>\n",
       "  </tbody>\n",
       "</table>\n",
       "</div>"
      ],
      "text/plain": [
       "        date temperature  windSpeed  status\n",
       "0 2020-05-06     35.6582  10.788378   sunny\n",
       "1 2020-05-07         NaT        NaT     NaT\n",
       "2 2020-05-08     30.9343      rainy   rainy\n",
       "3 2020-05-09    6.889682   6.889682  cloudy\n",
       "4 2020-05-10     13.9082   19.01299   rainy\n",
       "5 2020-05-11     23.9382      sunny   sunny"
      ]
     },
     "execution_count": 13,
     "metadata": {},
     "output_type": "execute_result"
    }
   ],
   "source": [
    "data.fillna(method='bfill',axis='columns')"
   ]
  },
  {
   "cell_type": "markdown",
   "id": "68705ce9",
   "metadata": {},
   "source": [
    "### Limiting the Backward/Forward fill"
   ]
  },
  {
   "cell_type": "markdown",
   "id": "efbb5c1c",
   "metadata": {},
   "source": [
    "#### We can limit the number of rows or columns getting filled."
   ]
  },
  {
   "cell_type": "code",
   "execution_count": 14,
   "id": "f93c835a",
   "metadata": {},
   "outputs": [
    {
     "data": {
      "text/html": [
       "<div>\n",
       "<style scoped>\n",
       "    .dataframe tbody tr th:only-of-type {\n",
       "        vertical-align: middle;\n",
       "    }\n",
       "\n",
       "    .dataframe tbody tr th {\n",
       "        vertical-align: top;\n",
       "    }\n",
       "\n",
       "    .dataframe thead th {\n",
       "        text-align: right;\n",
       "    }\n",
       "</style>\n",
       "<table border=\"1\" class=\"dataframe\">\n",
       "  <thead>\n",
       "    <tr style=\"text-align: right;\">\n",
       "      <th></th>\n",
       "      <th>date</th>\n",
       "      <th>temperature</th>\n",
       "      <th>windSpeed</th>\n",
       "      <th>status</th>\n",
       "    </tr>\n",
       "  </thead>\n",
       "  <tbody>\n",
       "    <tr>\n",
       "      <th>0</th>\n",
       "      <td>2020-05-06</td>\n",
       "      <td>35.6582</td>\n",
       "      <td>10.788378</td>\n",
       "      <td>sunny</td>\n",
       "    </tr>\n",
       "    <tr>\n",
       "      <th>1</th>\n",
       "      <td>2020-05-07</td>\n",
       "      <td>35.6582</td>\n",
       "      <td>10.788378</td>\n",
       "      <td>sunny</td>\n",
       "    </tr>\n",
       "    <tr>\n",
       "      <th>2</th>\n",
       "      <td>2020-05-08</td>\n",
       "      <td>30.9343</td>\n",
       "      <td>NaN</td>\n",
       "      <td>rainy</td>\n",
       "    </tr>\n",
       "    <tr>\n",
       "      <th>3</th>\n",
       "      <td>2020-05-09</td>\n",
       "      <td>30.9343</td>\n",
       "      <td>6.889682</td>\n",
       "      <td>cloudy</td>\n",
       "    </tr>\n",
       "    <tr>\n",
       "      <th>4</th>\n",
       "      <td>2020-05-10</td>\n",
       "      <td>13.9082</td>\n",
       "      <td>19.012990</td>\n",
       "      <td>rainy</td>\n",
       "    </tr>\n",
       "    <tr>\n",
       "      <th>5</th>\n",
       "      <td>2020-05-11</td>\n",
       "      <td>23.9382</td>\n",
       "      <td>19.012990</td>\n",
       "      <td>sunny</td>\n",
       "    </tr>\n",
       "  </tbody>\n",
       "</table>\n",
       "</div>"
      ],
      "text/plain": [
       "        date  temperature  windSpeed  status\n",
       "0 2020-05-06      35.6582  10.788378   sunny\n",
       "1 2020-05-07      35.6582  10.788378   sunny\n",
       "2 2020-05-08      30.9343        NaN   rainy\n",
       "3 2020-05-09      30.9343   6.889682  cloudy\n",
       "4 2020-05-10      13.9082  19.012990   rainy\n",
       "5 2020-05-11      23.9382  19.012990   sunny"
      ]
     },
     "execution_count": 14,
     "metadata": {},
     "output_type": "execute_result"
    }
   ],
   "source": [
    "data.fillna(method='ffill',limit=1)"
   ]
  },
  {
   "cell_type": "markdown",
   "id": "d7636103",
   "metadata": {},
   "source": [
    "### Filling with pandas object"
   ]
  },
  {
   "cell_type": "markdown",
   "id": "96bd2d7e",
   "metadata": {},
   "source": [
    "#### There are many Pandas objects like df.sum(), df.max(), etc. we can fill the missing values with these too."
   ]
  },
  {
   "cell_type": "code",
   "execution_count": 15,
   "id": "cc1be5a0",
   "metadata": {},
   "outputs": [
    {
     "data": {
      "text/html": [
       "<div>\n",
       "<style scoped>\n",
       "    .dataframe tbody tr th:only-of-type {\n",
       "        vertical-align: middle;\n",
       "    }\n",
       "\n",
       "    .dataframe tbody tr th {\n",
       "        vertical-align: top;\n",
       "    }\n",
       "\n",
       "    .dataframe thead th {\n",
       "        text-align: right;\n",
       "    }\n",
       "</style>\n",
       "<table border=\"1\" class=\"dataframe\">\n",
       "  <thead>\n",
       "    <tr style=\"text-align: right;\">\n",
       "      <th></th>\n",
       "      <th>date</th>\n",
       "      <th>temperature</th>\n",
       "      <th>windSpeed</th>\n",
       "      <th>status</th>\n",
       "    </tr>\n",
       "  </thead>\n",
       "  <tbody>\n",
       "    <tr>\n",
       "      <th>0</th>\n",
       "      <td>2020-05-06</td>\n",
       "      <td>35.658200</td>\n",
       "      <td>10.788378</td>\n",
       "      <td>sunny</td>\n",
       "    </tr>\n",
       "    <tr>\n",
       "      <th>1</th>\n",
       "      <td>2020-05-07</td>\n",
       "      <td>26.109725</td>\n",
       "      <td>12.230350</td>\n",
       "      <td>NaN</td>\n",
       "    </tr>\n",
       "    <tr>\n",
       "      <th>2</th>\n",
       "      <td>2020-05-08</td>\n",
       "      <td>30.934300</td>\n",
       "      <td>12.230350</td>\n",
       "      <td>rainy</td>\n",
       "    </tr>\n",
       "    <tr>\n",
       "      <th>3</th>\n",
       "      <td>2020-05-09</td>\n",
       "      <td>26.109725</td>\n",
       "      <td>6.889682</td>\n",
       "      <td>cloudy</td>\n",
       "    </tr>\n",
       "    <tr>\n",
       "      <th>4</th>\n",
       "      <td>2020-05-10</td>\n",
       "      <td>13.908200</td>\n",
       "      <td>19.012990</td>\n",
       "      <td>rainy</td>\n",
       "    </tr>\n",
       "    <tr>\n",
       "      <th>5</th>\n",
       "      <td>2020-05-11</td>\n",
       "      <td>23.938200</td>\n",
       "      <td>12.230350</td>\n",
       "      <td>sunny</td>\n",
       "    </tr>\n",
       "  </tbody>\n",
       "</table>\n",
       "</div>"
      ],
      "text/plain": [
       "        date  temperature  windSpeed  status\n",
       "0 2020-05-06    35.658200  10.788378   sunny\n",
       "1 2020-05-07    26.109725  12.230350     NaN\n",
       "2 2020-05-08    30.934300  12.230350   rainy\n",
       "3 2020-05-09    26.109725   6.889682  cloudy\n",
       "4 2020-05-10    13.908200  19.012990   rainy\n",
       "5 2020-05-11    23.938200  12.230350   sunny"
      ]
     },
     "execution_count": 15,
     "metadata": {},
     "output_type": "execute_result"
    }
   ],
   "source": [
    "data.fillna(data.mean())"
   ]
  },
  {
   "cell_type": "markdown",
   "id": "72fa54f9",
   "metadata": {},
   "source": [
    "### Filling specific range of columns"
   ]
  },
  {
   "cell_type": "code",
   "execution_count": 16,
   "id": "278a495e",
   "metadata": {},
   "outputs": [
    {
     "data": {
      "text/html": [
       "<div>\n",
       "<style scoped>\n",
       "    .dataframe tbody tr th:only-of-type {\n",
       "        vertical-align: middle;\n",
       "    }\n",
       "\n",
       "    .dataframe tbody tr th {\n",
       "        vertical-align: top;\n",
       "    }\n",
       "\n",
       "    .dataframe thead th {\n",
       "        text-align: right;\n",
       "    }\n",
       "</style>\n",
       "<table border=\"1\" class=\"dataframe\">\n",
       "  <thead>\n",
       "    <tr style=\"text-align: right;\">\n",
       "      <th></th>\n",
       "      <th>date</th>\n",
       "      <th>temperature</th>\n",
       "      <th>windSpeed</th>\n",
       "      <th>status</th>\n",
       "    </tr>\n",
       "  </thead>\n",
       "  <tbody>\n",
       "    <tr>\n",
       "      <th>0</th>\n",
       "      <td>2020-05-06</td>\n",
       "      <td>35.658200</td>\n",
       "      <td>10.788378</td>\n",
       "      <td>sunny</td>\n",
       "    </tr>\n",
       "    <tr>\n",
       "      <th>1</th>\n",
       "      <td>2020-05-07</td>\n",
       "      <td>26.109725</td>\n",
       "      <td>12.230350</td>\n",
       "      <td>NaN</td>\n",
       "    </tr>\n",
       "    <tr>\n",
       "      <th>2</th>\n",
       "      <td>2020-05-08</td>\n",
       "      <td>30.934300</td>\n",
       "      <td>12.230350</td>\n",
       "      <td>rainy</td>\n",
       "    </tr>\n",
       "    <tr>\n",
       "      <th>3</th>\n",
       "      <td>2020-05-09</td>\n",
       "      <td>26.109725</td>\n",
       "      <td>6.889682</td>\n",
       "      <td>cloudy</td>\n",
       "    </tr>\n",
       "    <tr>\n",
       "      <th>4</th>\n",
       "      <td>2020-05-10</td>\n",
       "      <td>13.908200</td>\n",
       "      <td>19.012990</td>\n",
       "      <td>rainy</td>\n",
       "    </tr>\n",
       "    <tr>\n",
       "      <th>5</th>\n",
       "      <td>2020-05-11</td>\n",
       "      <td>23.938200</td>\n",
       "      <td>12.230350</td>\n",
       "      <td>sunny</td>\n",
       "    </tr>\n",
       "  </tbody>\n",
       "</table>\n",
       "</div>"
      ],
      "text/plain": [
       "        date  temperature  windSpeed  status\n",
       "0 2020-05-06    35.658200  10.788378   sunny\n",
       "1 2020-05-07    26.109725  12.230350     NaN\n",
       "2 2020-05-08    30.934300  12.230350   rainy\n",
       "3 2020-05-09    26.109725   6.889682  cloudy\n",
       "4 2020-05-10    13.908200  19.012990   rainy\n",
       "5 2020-05-11    23.938200  12.230350   sunny"
      ]
     },
     "execution_count": 16,
     "metadata": {},
     "output_type": "execute_result"
    }
   ],
   "source": [
    "data.fillna(data.mean()['temperature':'windSpeed'])"
   ]
  },
  {
   "cell_type": "markdown",
   "id": "8a2a2708",
   "metadata": {},
   "source": [
    "### Interpolate missing values"
   ]
  },
  {
   "cell_type": "markdown",
   "id": "c4301dc2",
   "metadata": {},
   "source": [
    "#### Interpolation is a process of determining the unknown values that lie in between the known data points."
   ]
  },
  {
   "cell_type": "markdown",
   "id": "1488a4be",
   "metadata": {},
   "source": [
    "#### Linear interpolation"
   ]
  },
  {
   "cell_type": "code",
   "execution_count": 17,
   "id": "fabd8438",
   "metadata": {},
   "outputs": [],
   "source": [
    "# Linear interpolation involves estimating a new value by connecting two adjacent known values with a straight line.\n",
    "# By default, interpolate() does linear interpolation."
   ]
  },
  {
   "cell_type": "code",
   "execution_count": 19,
   "id": "c8bc6800",
   "metadata": {},
   "outputs": [
    {
     "data": {
      "text/plain": [
       "0    35.65820\n",
       "1    33.29625\n",
       "2    30.93430\n",
       "3    22.42125\n",
       "4    13.90820\n",
       "5    23.93820\n",
       "Name: temperature, dtype: float64"
      ]
     },
     "execution_count": 19,
     "metadata": {},
     "output_type": "execute_result"
    }
   ],
   "source": [
    "data.temperature.interpolate()"
   ]
  },
  {
   "cell_type": "markdown",
   "id": "20118996",
   "metadata": {},
   "source": [
    "#### Time interpolate"
   ]
  },
  {
   "cell_type": "markdown",
   "id": "cb43b89f",
   "metadata": {},
   "source": [
    "#### Time-weighted interpolation only works on Series or DataFrames with a DatetimeIndex"
   ]
  },
  {
   "cell_type": "code",
   "execution_count": 21,
   "id": "fcccf0e0",
   "metadata": {},
   "outputs": [],
   "source": [
    "# data.interpolate(method='time')"
   ]
  },
  {
   "cell_type": "markdown",
   "id": "3a18c990",
   "metadata": {},
   "source": [
    "#### Other methods"
   ]
  },
  {
   "cell_type": "code",
   "execution_count": 24,
   "id": "e97ca40d",
   "metadata": {},
   "outputs": [
    {
     "data": {
      "text/plain": [
       "0    35.65820\n",
       "1    39.46530\n",
       "2    30.93430\n",
       "3    19.32775\n",
       "4    13.90820\n",
       "5    23.93820\n",
       "Name: temperature, dtype: float64"
      ]
     },
     "execution_count": 24,
     "metadata": {},
     "output_type": "execute_result"
    }
   ],
   "source": [
    "data.temperature.interpolate(method='barycentric')"
   ]
  },
  {
   "cell_type": "code",
   "execution_count": 25,
   "id": "89acd412",
   "metadata": {},
   "outputs": [
    {
     "data": {
      "text/plain": [
       "0    35.658200\n",
       "1    34.220728\n",
       "2    30.934300\n",
       "3    21.496772\n",
       "4    13.908200\n",
       "5    23.938200\n",
       "Name: temperature, dtype: float64"
      ]
     },
     "execution_count": 25,
     "metadata": {},
     "output_type": "execute_result"
    }
   ],
   "source": [
    "data.temperature.interpolate(method='pchip')"
   ]
  },
  {
   "cell_type": "code",
   "execution_count": 26,
   "id": "9b1beb0c",
   "metadata": {},
   "outputs": [
    {
     "data": {
      "text/plain": [
       "0    35.658200\n",
       "1    34.448184\n",
       "2    30.934300\n",
       "3    22.421250\n",
       "4    13.908200\n",
       "5    23.938200\n",
       "Name: temperature, dtype: float64"
      ]
     },
     "execution_count": 26,
     "metadata": {},
     "output_type": "execute_result"
    }
   ],
   "source": [
    "data.temperature.interpolate(method='akima')"
   ]
  },
  {
   "cell_type": "code",
   "execution_count": 27,
   "id": "167e75c2",
   "metadata": {},
   "outputs": [
    {
     "data": {
      "text/plain": [
       "0    35.658200\n",
       "1    35.076089\n",
       "2    30.934300\n",
       "3    20.526966\n",
       "4    13.908200\n",
       "5    23.938200\n",
       "Name: temperature, dtype: float64"
      ]
     },
     "execution_count": 27,
     "metadata": {},
     "output_type": "execute_result"
    }
   ],
   "source": [
    "data.temperature.interpolate(method='spline',order=2)"
   ]
  },
  {
   "cell_type": "code",
   "execution_count": 28,
   "id": "68ca7fbc",
   "metadata": {},
   "outputs": [
    {
     "data": {
      "text/plain": [
       "0    35.658200\n",
       "1    36.196165\n",
       "2    30.934300\n",
       "3    19.872606\n",
       "4    13.908200\n",
       "5    23.938200\n",
       "Name: temperature, dtype: float64"
      ]
     },
     "execution_count": 28,
     "metadata": {},
     "output_type": "execute_result"
    }
   ],
   "source": [
    "data.temperature.interpolate(method='polynomial',order=2)"
   ]
  },
  {
   "cell_type": "code",
   "execution_count": 30,
   "id": "1d280069",
   "metadata": {},
   "outputs": [],
   "source": [
    "## In each operation ,inplace is not set to True so that the  dataset remains the same"
   ]
  },
  {
   "cell_type": "code",
   "execution_count": null,
   "id": "249d01e2",
   "metadata": {},
   "outputs": [],
   "source": []
  }
 ],
 "metadata": {
  "kernelspec": {
   "display_name": "Python 3 (ipykernel)",
   "language": "python",
   "name": "python3"
  },
  "language_info": {
   "codemirror_mode": {
    "name": "ipython",
    "version": 3
   },
   "file_extension": ".py",
   "mimetype": "text/x-python",
   "name": "python",
   "nbconvert_exporter": "python",
   "pygments_lexer": "ipython3",
   "version": "3.10.9"
  }
 },
 "nbformat": 4,
 "nbformat_minor": 5
}
